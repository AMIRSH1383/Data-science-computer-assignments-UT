{
 "cells": [
  {
   "cell_type": "markdown",
   "id": "9039ae3c",
   "metadata": {},
   "source": [
    "# CA3"
   ]
  },
  {
   "cell_type": "markdown",
   "id": "1f254602",
   "metadata": {},
   "source": [
    "#### Import libraries"
   ]
  },
  {
   "cell_type": "code",
   "execution_count": 18,
   "id": "59786c5b",
   "metadata": {},
   "outputs": [],
   "source": [
    "import pandas as pd\n",
    "import numpy as np\n",
    "from collections import deque, defaultdict\n",
    "import xgboost as xgb\n",
    "from sklearn.model_selection import train_test_split\n",
    "from sklearn.metrics import mean_squared_error, mean_absolute_error, r2_score"
   ]
  },
  {
   "cell_type": "markdown",
   "id": "e4367935",
   "metadata": {},
   "source": [
    "#### Import dataset"
   ]
  },
  {
   "cell_type": "code",
   "execution_count": 9,
   "id": "3eb49d81",
   "metadata": {},
   "outputs": [],
   "source": [
    "trust_path = \"train_data_movie_trust.csv\"\n",
    "rating_path = \"train_data_movie_rate.csv\"\n",
    "\n",
    "trust_df = pd.read_csv(trust_path).dropna()\n",
    "rating_df = pd.read_csv(rating_path).dropna()"
   ]
  },
  {
   "cell_type": "markdown",
   "id": "e1528e5e",
   "metadata": {},
   "source": [
    "#### Define bfs function"
   ]
  },
  {
   "cell_type": "code",
   "execution_count": 10,
   "id": "b6af480e",
   "metadata": {},
   "outputs": [],
   "source": [
    "def avg_trust_network_rating(user_id, item_id, trust_df, rating_df, max_depth=3):\n",
    "\n",
    "    # Build adjacency list: who does each user trust?\n",
    "    adjacency = defaultdict(list)\n",
    "    for tr, te in zip(trust_df.user_id_trustor, trust_df.user_id_trustee):\n",
    "        adjacency[tr].append(te)\n",
    "        \n",
    "    # Build lookup of ratings by (user, item)\n",
    "    rating_lookup = {\n",
    "        (u, i): r\n",
    "        for u, i, r in zip(rating_df.user_id, rating_df.item_id, rating_df.label)\n",
    "    }\n",
    "    \n",
    "    # BFS out to max_depth\n",
    "    visited = set([user_id])\n",
    "    queue   = deque([(user_id, 0)])\n",
    "    ratings = []\n",
    "    num = 0\n",
    "    while queue:\n",
    "        current, depth = queue.popleft()\n",
    "        if depth >= max_depth:\n",
    "            continue\n",
    "        for nbr in adjacency.get(current, []):\n",
    "            if nbr in visited:\n",
    "                continue\n",
    "            visited.add(nbr)\n",
    "            # if this neighbor rated the item, collect it\n",
    "            rt = rating_lookup.get((nbr, item_id))\n",
    "            if rt is not None:\n",
    "                num+=1\n",
    "                ratings.append(rt)\n",
    "            queue.append((nbr, depth + 1))\n",
    "    mean = np.mean(ratings) if ratings else -1\n",
    "    std = np.std(ratings) if ratings else -1\n",
    "    the_min = np.min(ratings) if ratings else -1\n",
    "    the_max = np.max(ratings) if ratings else -1\n",
    "    median = np.median(ratings) if ratings else -1\n",
    "    count = len(ratings)\n",
    "    return [mean, std, count, median, the_max, the_min]\n"
   ]
  },
  {
   "cell_type": "markdown",
   "id": "5c87deab",
   "metadata": {},
   "source": [
    "#### Test BFS function"
   ]
  },
  {
   "cell_type": "code",
   "execution_count": null,
   "id": "1145ca7d",
   "metadata": {},
   "outputs": [
    {
     "name": "stdout",
     "output_type": "stream",
     "text": [
      "i= 1 rating =  [3.5, 0.5, 2, 3.5, 4.0, 3.0]\n",
      "i= 2 rating =  [2.5925925925925926, 1.0277360685564152, 27, 3.0, 4.0, 0.5]\n",
      "i= 3 rating =  [2.6294117647058823, 0.8648459270347815, 85, 2.5, 4.0, 0.5]\n",
      "i= 4 rating =  [2.5588235294117645, 0.8868234090133716, 119, 2.5, 4.0, 0.5]\n",
      "i= 5 rating =  [2.5892857142857144, 0.8949618051364322, 140, 2.5, 4.0, 0.5]\n",
      "i= 6 rating =  [2.5993150684931505, 0.8809627808709003, 146, 2.5, 4.0, 0.5]\n",
      "i= 7 rating =  [2.6033333333333335, 0.896840131919966, 150, 2.5, 4.0, 0.5]\n",
      "i= 8 rating =  [2.6059602649006623, 0.8944443528850059, 151, 2.5, 4.0, 0.5]\n",
      "i= 9 rating =  [2.6059602649006623, 0.8944443528850059, 151, 2.5, 4.0, 0.5]\n",
      "i= 10 rating =  [2.6059602649006623, 0.8944443528850059, 151, 2.5, 4.0, 0.5]\n",
      "i= 11 rating =  [2.6059602649006623, 0.8944443528850059, 151, 2.5, 4.0, 0.5]\n",
      "i= 12 rating =  [2.6059602649006623, 0.8944443528850059, 151, 2.5, 4.0, 0.5]\n",
      "i= 13 rating =  [2.6059602649006623, 0.8944443528850059, 151, 2.5, 4.0, 0.5]\n",
      "i= 14 rating =  [2.6059602649006623, 0.8944443528850059, 151, 2.5, 4.0, 0.5]\n"
     ]
    }
   ],
   "source": [
    "for i in range(1,15):\n",
    "    print(\"i =\", i, \"rating = \", avg_trust_network_rating(16,12, trust_df, rating_df, i))"
   ]
  },
  {
   "cell_type": "markdown",
   "id": "19e0c45d",
   "metadata": {},
   "source": [
    "#### Create trust graph"
   ]
  },
  {
   "cell_type": "code",
   "execution_count": 12,
   "id": "63941e99",
   "metadata": {},
   "outputs": [],
   "source": [
    "# 1) Precompute once: adjacency and rating lookup\n",
    "adjacency = defaultdict(list)\n",
    "for tr, te in zip(trust_df.user_id_trustor, trust_df.user_id_trustee):\n",
    "    adjacency[tr].append(te)\n",
    "\n",
    "rating_lookup = {\n",
    "    (u, i): r\n",
    "    for u, i, r in zip(rating_df.user_id, rating_df.item_id, rating_df.label)\n",
    "}"
   ]
  },
  {
   "cell_type": "markdown",
   "id": "2128eb40",
   "metadata": {},
   "source": [
    "#### Create a function to calculate users stats"
   ]
  },
  {
   "cell_type": "code",
   "execution_count": 13,
   "id": "ee2dfccf",
   "metadata": {},
   "outputs": [],
   "source": [
    "# 2) A leaner trust‑stats function that reuses those dicts\n",
    "def trust_stats(u, i, max_depth=3):\n",
    "    visited = {u}\n",
    "    queue   = deque([(u, 0)])\n",
    "    vals    = []\n",
    "    while queue:\n",
    "        curr, d = queue.popleft()\n",
    "        if d >= max_depth:\n",
    "            continue\n",
    "        for nbr in adjacency.get(curr, []):\n",
    "            if nbr in visited:\n",
    "                continue\n",
    "            visited.add(nbr)\n",
    "            r = rating_lookup.get((nbr, i))\n",
    "            if r is not None:\n",
    "                vals.append(r)\n",
    "            queue.append((nbr, d+1))\n",
    "    if not vals:\n",
    "        return pd.Series({\n",
    "            'trust_mean': -1,\n",
    "            'trust_std': -1,\n",
    "            'trust_count': 0,\n",
    "            'trust_median': -1,\n",
    "            'trust_max': -1,\n",
    "            'trust_min': -1\n",
    "        })\n",
    "    return pd.Series({\n",
    "        'trust_mean':  np.mean(vals),\n",
    "        'trust_std':   np.std(vals),\n",
    "        'trust_count': len(vals),\n",
    "        'trust_median': np.median(vals),\n",
    "        'trust_max':    np.max(vals),\n",
    "        'trust_min':    np.min(vals)\n",
    "    })"
   ]
  },
  {
   "cell_type": "markdown",
   "id": "7a92d53f",
   "metadata": {},
   "source": [
    "#### Adding new features to train data"
   ]
  },
  {
   "cell_type": "code",
   "execution_count": 14,
   "id": "da1c2719",
   "metadata": {},
   "outputs": [
    {
     "name": "stdout",
     "output_type": "stream",
     "text": [
      "1\n",
      "2\n",
      "3\n",
      "4\n",
      "5\n",
      "6\n",
      "7\n",
      "8\n",
      "9\n"
     ]
    }
   ],
   "source": [
    "# 3) Apply to your feature‑dataframe:\n",
    "#    e.g. train_df, test_df, or train_merged\n",
    "  # or test_df\n",
    "\n",
    "def add_the_mean_count_var(df, max_range):\n",
    "    for i in range(1,max_range):\n",
    "        print(i)\n",
    "        df[[f'trust_mean{i}',f'trust_std{i}',f'trust_count{i}', f'median{i}', f'min{i}', f'max{i}']] = (\n",
    "            df.apply(lambda r: trust_stats(r.user_id, r.item_id, max_depth=i), axis=1)\n",
    "        )\n",
    "    return df\n",
    "\n",
    "train_df = add_the_mean_count_var(rating_df, 10)"
   ]
  },
  {
   "cell_type": "code",
   "execution_count": 15,
   "id": "bd3ce829",
   "metadata": {},
   "outputs": [
    {
     "name": "stdout",
     "output_type": "stream",
     "text": [
      "          id  user_id  item_id  label  trust_mean1  trust_std1  trust_count1  \\\n",
      "34293  34294     1508       84    3.5        -1.00       -1.00           0.0   \n",
      "34294  34295     1508       17    4.0         2.75        0.75           2.0   \n",
      "34295  34296     1508      669    1.0        -1.00       -1.00           0.0   \n",
      "34296  34297     1508      686    2.5         3.00        0.00           1.0   \n",
      "34297  34298     1508      806    3.5        -1.00       -1.00           0.0   \n",
      "\n",
      "       median1  min1  max1  ...  trust_count8  median8  min8  max8  \\\n",
      "34293    -1.00  -1.0  -1.0  ...          57.0     3.00   4.0   0.5   \n",
      "34294     2.75   3.5   2.0  ...         171.0     3.00   4.0   0.5   \n",
      "34295    -1.00  -1.0  -1.0  ...           2.0     4.00   4.0   4.0   \n",
      "34296     3.00   3.0   3.0  ...           4.0     2.25   3.5   1.5   \n",
      "34297    -1.00  -1.0  -1.0  ...           6.0     3.25   4.0   0.5   \n",
      "\n",
      "       trust_mean9  trust_std9  trust_count9  median9  min9  max9  \n",
      "34293     2.807018    0.902017          57.0     3.00   4.0   0.5  \n",
      "34294     3.122807    0.825121         171.0     3.00   4.0   0.5  \n",
      "34295     4.000000    0.000000           2.0     4.00   4.0   4.0  \n",
      "34296     2.375000    0.892679           4.0     2.25   3.5   1.5  \n",
      "34297     3.000000    1.190238           6.0     3.25   4.0   0.5  \n",
      "\n",
      "[5 rows x 58 columns]\n"
     ]
    }
   ],
   "source": [
    "print(train_df.tail(5))"
   ]
  },
  {
   "cell_type": "markdown",
   "id": "1789d724",
   "metadata": {},
   "source": [
    "#### Create X(features) and y(target) for our model"
   ]
  },
  {
   "cell_type": "code",
   "execution_count": null,
   "id": "5a71e9a0",
   "metadata": {},
   "outputs": [],
   "source": [
    "train_df = train_df.dropna() # Handle NaNs (basic strategy)\n",
    "X = train_df.drop(columns=['id','user_id', 'item_id', 'label'])  # keep only numeric features\n",
    "y = train_df['label']"
   ]
  },
  {
   "cell_type": "markdown",
   "id": "df0e08c5",
   "metadata": {},
   "source": [
    "#### Define our model"
   ]
  },
  {
   "cell_type": "code",
   "execution_count": 19,
   "id": "8cf1e76a",
   "metadata": {},
   "outputs": [
    {
     "data": {
      "text/html": [
       "<style>#sk-container-id-1 {color: black;}#sk-container-id-1 pre{padding: 0;}#sk-container-id-1 div.sk-toggleable {background-color: white;}#sk-container-id-1 label.sk-toggleable__label {cursor: pointer;display: block;width: 100%;margin-bottom: 0;padding: 0.3em;box-sizing: border-box;text-align: center;}#sk-container-id-1 label.sk-toggleable__label-arrow:before {content: \"▸\";float: left;margin-right: 0.25em;color: #696969;}#sk-container-id-1 label.sk-toggleable__label-arrow:hover:before {color: black;}#sk-container-id-1 div.sk-estimator:hover label.sk-toggleable__label-arrow:before {color: black;}#sk-container-id-1 div.sk-toggleable__content {max-height: 0;max-width: 0;overflow: hidden;text-align: left;background-color: #f0f8ff;}#sk-container-id-1 div.sk-toggleable__content pre {margin: 0.2em;color: black;border-radius: 0.25em;background-color: #f0f8ff;}#sk-container-id-1 input.sk-toggleable__control:checked~div.sk-toggleable__content {max-height: 200px;max-width: 100%;overflow: auto;}#sk-container-id-1 input.sk-toggleable__control:checked~label.sk-toggleable__label-arrow:before {content: \"▾\";}#sk-container-id-1 div.sk-estimator input.sk-toggleable__control:checked~label.sk-toggleable__label {background-color: #d4ebff;}#sk-container-id-1 div.sk-label input.sk-toggleable__control:checked~label.sk-toggleable__label {background-color: #d4ebff;}#sk-container-id-1 input.sk-hidden--visually {border: 0;clip: rect(1px 1px 1px 1px);clip: rect(1px, 1px, 1px, 1px);height: 1px;margin: -1px;overflow: hidden;padding: 0;position: absolute;width: 1px;}#sk-container-id-1 div.sk-estimator {font-family: monospace;background-color: #f0f8ff;border: 1px dotted black;border-radius: 0.25em;box-sizing: border-box;margin-bottom: 0.5em;}#sk-container-id-1 div.sk-estimator:hover {background-color: #d4ebff;}#sk-container-id-1 div.sk-parallel-item::after {content: \"\";width: 100%;border-bottom: 1px solid gray;flex-grow: 1;}#sk-container-id-1 div.sk-label:hover label.sk-toggleable__label {background-color: #d4ebff;}#sk-container-id-1 div.sk-serial::before {content: \"\";position: absolute;border-left: 1px solid gray;box-sizing: border-box;top: 0;bottom: 0;left: 50%;z-index: 0;}#sk-container-id-1 div.sk-serial {display: flex;flex-direction: column;align-items: center;background-color: white;padding-right: 0.2em;padding-left: 0.2em;position: relative;}#sk-container-id-1 div.sk-item {position: relative;z-index: 1;}#sk-container-id-1 div.sk-parallel {display: flex;align-items: stretch;justify-content: center;background-color: white;position: relative;}#sk-container-id-1 div.sk-item::before, #sk-container-id-1 div.sk-parallel-item::before {content: \"\";position: absolute;border-left: 1px solid gray;box-sizing: border-box;top: 0;bottom: 0;left: 50%;z-index: -1;}#sk-container-id-1 div.sk-parallel-item {display: flex;flex-direction: column;z-index: 1;position: relative;background-color: white;}#sk-container-id-1 div.sk-parallel-item:first-child::after {align-self: flex-end;width: 50%;}#sk-container-id-1 div.sk-parallel-item:last-child::after {align-self: flex-start;width: 50%;}#sk-container-id-1 div.sk-parallel-item:only-child::after {width: 0;}#sk-container-id-1 div.sk-dashed-wrapped {border: 1px dashed gray;margin: 0 0.4em 0.5em 0.4em;box-sizing: border-box;padding-bottom: 0.4em;background-color: white;}#sk-container-id-1 div.sk-label label {font-family: monospace;font-weight: bold;display: inline-block;line-height: 1.2em;}#sk-container-id-1 div.sk-label-container {text-align: center;}#sk-container-id-1 div.sk-container {/* jupyter's `normalize.less` sets `[hidden] { display: none; }` but bootstrap.min.css set `[hidden] { display: none !important; }` so we also need the `!important` here to be able to override the default hidden behavior on the sphinx rendered scikit-learn.org. See: https://github.com/scikit-learn/scikit-learn/issues/21755 */display: inline-block !important;position: relative;}#sk-container-id-1 div.sk-text-repr-fallback {display: none;}</style><div id=\"sk-container-id-1\" class=\"sk-top-container\"><div class=\"sk-text-repr-fallback\"><pre>XGBRegressor(base_score=None, booster=None, callbacks=None,\n",
       "             colsample_bylevel=None, colsample_bynode=None,\n",
       "             colsample_bytree=0.8, device=None, early_stopping_rounds=None,\n",
       "             enable_categorical=False, eval_metric=None, feature_types=None,\n",
       "             feature_weights=None, gamma=None, grow_policy=None,\n",
       "             importance_type=None, interaction_constraints=None,\n",
       "             learning_rate=0.1, max_bin=None, max_cat_threshold=None,\n",
       "             max_cat_to_onehot=None, max_delta_step=None, max_depth=4,\n",
       "             max_leaves=None, min_child_weight=None, missing=nan,\n",
       "             monotone_constraints=None, multi_strategy=None, n_estimators=70,\n",
       "             n_jobs=-1, num_parallel_tree=None, ...)</pre><b>In a Jupyter environment, please rerun this cell to show the HTML representation or trust the notebook. <br />On GitHub, the HTML representation is unable to render, please try loading this page with nbviewer.org.</b></div><div class=\"sk-container\" hidden><div class=\"sk-item\"><div class=\"sk-estimator sk-toggleable\"><input class=\"sk-toggleable__control sk-hidden--visually\" id=\"sk-estimator-id-1\" type=\"checkbox\" checked><label for=\"sk-estimator-id-1\" class=\"sk-toggleable__label sk-toggleable__label-arrow\">XGBRegressor</label><div class=\"sk-toggleable__content\"><pre>XGBRegressor(base_score=None, booster=None, callbacks=None,\n",
       "             colsample_bylevel=None, colsample_bynode=None,\n",
       "             colsample_bytree=0.8, device=None, early_stopping_rounds=None,\n",
       "             enable_categorical=False, eval_metric=None, feature_types=None,\n",
       "             feature_weights=None, gamma=None, grow_policy=None,\n",
       "             importance_type=None, interaction_constraints=None,\n",
       "             learning_rate=0.1, max_bin=None, max_cat_threshold=None,\n",
       "             max_cat_to_onehot=None, max_delta_step=None, max_depth=4,\n",
       "             max_leaves=None, min_child_weight=None, missing=nan,\n",
       "             monotone_constraints=None, multi_strategy=None, n_estimators=70,\n",
       "             n_jobs=-1, num_parallel_tree=None, ...)</pre></div></div></div></div></div>"
      ],
      "text/plain": [
       "XGBRegressor(base_score=None, booster=None, callbacks=None,\n",
       "             colsample_bylevel=None, colsample_bynode=None,\n",
       "             colsample_bytree=0.8, device=None, early_stopping_rounds=None,\n",
       "             enable_categorical=False, eval_metric=None, feature_types=None,\n",
       "             feature_weights=None, gamma=None, grow_policy=None,\n",
       "             importance_type=None, interaction_constraints=None,\n",
       "             learning_rate=0.1, max_bin=None, max_cat_threshold=None,\n",
       "             max_cat_to_onehot=None, max_delta_step=None, max_depth=4,\n",
       "             max_leaves=None, min_child_weight=None, missing=nan,\n",
       "             monotone_constraints=None, multi_strategy=None, n_estimators=70,\n",
       "             n_jobs=-1, num_parallel_tree=None, ...)"
      ]
     },
     "execution_count": 19,
     "metadata": {},
     "output_type": "execute_result"
    }
   ],
   "source": [
    "model = xgb.XGBRegressor(\n",
    "    n_estimators=70,\n",
    "    max_depth=4,\n",
    "    learning_rate=0.1,\n",
    "    subsample=0.8,\n",
    "    colsample_bytree=0.8,\n",
    "    random_state=42,\n",
    "    n_jobs=-1\n",
    ")\n",
    "\n",
    "model.fit(X, y, verbose=False)"
   ]
  },
  {
   "cell_type": "markdown",
   "id": "4397614a",
   "metadata": {},
   "source": [
    "#### Read test data csv"
   ]
  },
  {
   "cell_type": "code",
   "execution_count": 20,
   "id": "9fb98dc9",
   "metadata": {},
   "outputs": [
    {
     "name": "stdout",
     "output_type": "stream",
     "text": [
      "1\n",
      "2\n",
      "3\n",
      "4\n",
      "5\n",
      "6\n",
      "7\n",
      "8\n",
      "9\n"
     ]
    }
   ],
   "source": [
    "test = pd.read_csv(\"test_data.csv\")  # columns: user_id, item_id\n",
    "\n",
    "test_df = add_the_mean_count_var(test, 10)"
   ]
  },
  {
   "cell_type": "code",
   "execution_count": 21,
   "id": "f192284c",
   "metadata": {},
   "outputs": [
    {
     "name": "stdout",
     "output_type": "stream",
     "text": [
      "   id  user_id  item_id  trust_mean1  trust_std1  trust_count1  median1  min1  \\\n",
      "0   1        6      211         3.50        0.00           1.0     3.50   3.5   \n",
      "1   2        6        7         2.00        0.00           1.0     2.00   2.0   \n",
      "2   3       16        2         3.00        0.00           2.0     3.00   3.0   \n",
      "3   4       16        4         3.25        0.75           2.0     3.25   4.0   \n",
      "4   5       16       11         3.25        0.75           2.0     3.25   4.0   \n",
      "\n",
      "   max1  trust_mean2  ...  trust_count8  median8  min8  max8  trust_mean9  \\\n",
      "0   3.5     3.250000  ...         109.0      3.5   4.0   1.0     3.315315   \n",
      "1   2.0     2.000000  ...         214.0      3.5   4.0   0.5     3.227064   \n",
      "2   3.0     3.166667  ...         175.0      3.5   4.0   0.5     3.242857   \n",
      "3   2.5     3.281250  ...         111.0      3.5   4.0   0.5     3.139640   \n",
      "4   2.5     3.431818  ...         149.0      3.5   4.0   0.5     3.359060   \n",
      "\n",
      "   trust_std9  trust_count9  median9  min9  max9  \n",
      "0    0.725743         111.0      3.5   4.0   1.0  \n",
      "1    0.743505         218.0      3.5   4.0   0.5  \n",
      "2    0.744230         175.0      3.5   4.0   0.5  \n",
      "3    0.870361         111.0      3.5   4.0   0.5  \n",
      "4    0.788084         149.0      3.5   4.0   0.5  \n",
      "\n",
      "[5 rows x 57 columns]\n"
     ]
    }
   ],
   "source": [
    "print(test_df.head())"
   ]
  },
  {
   "cell_type": "markdown",
   "id": "70620791",
   "metadata": {},
   "source": [
    "#### Predict test data entries and store it in a csv"
   ]
  },
  {
   "cell_type": "code",
   "execution_count": 22,
   "id": "9b674364",
   "metadata": {},
   "outputs": [],
   "source": [
    "# Fill NaNs just in case\n",
    "X_test = test_df.drop(columns=['user_id', 'item_id', 'id'], errors='ignore').fillna(-1)\n",
    "\n",
    "# Predict residual\n",
    "final_preds = model.predict(X_test)\n",
    "\n",
    "# Prepare submission DataFrame\n",
    "submission = test_df.copy()\n",
    "submission['label'] = final_preds\n",
    "\n",
    "# Save to CSV (preferred for submissions)\n",
    "submission[['id','label']].to_csv(\"submission_with_trust_features_2.csv\", index=False)"
   ]
  }
 ],
 "metadata": {
  "kernelspec": {
   "display_name": "Python 3",
   "language": "python",
   "name": "python3"
  },
  "language_info": {
   "codemirror_mode": {
    "name": "ipython",
    "version": 3
   },
   "file_extension": ".py",
   "mimetype": "text/x-python",
   "name": "python",
   "nbconvert_exporter": "python",
   "pygments_lexer": "ipython3",
   "version": "3.10.11"
  }
 },
 "nbformat": 4,
 "nbformat_minor": 5
}
