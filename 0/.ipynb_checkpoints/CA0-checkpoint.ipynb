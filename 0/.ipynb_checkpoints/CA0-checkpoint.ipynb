{
 "cells": [
  {
   "cell_type": "markdown",
   "id": "0e4e5830-8e80-43ed-af5a-509ea78d81d5",
   "metadata": {},
   "source": [
    "# Roulette Simulation and Profit Analysis"
   ]
  },
  {
   "cell_type": "markdown",
   "id": "d0e66d42-9628-48f2-9110-bd7f5f4461b8",
   "metadata": {},
   "source": [
    "## 1"
   ]
  },
  {
   "cell_type": "code",
   "execution_count": null,
   "id": "73df2dcb-9094-4438-8a5a-d134c69f672b",
   "metadata": {},
   "outputs": [],
   "source": [
    "import random\n",
    "def game_simulator(N):\n",
    "    random_number = random.randint(1,36)"
   ]
  },
  {
   "cell_type": "code",
   "execution_count": null,
   "id": "b0066e08-b7e1-4df6-8ccd-140a61fd1661",
   "metadata": {},
   "outputs": [],
   "source": []
  }
 ],
 "metadata": {
  "kernelspec": {
   "display_name": "Python 3 (ipykernel)",
   "language": "python",
   "name": "python3"
  },
  "language_info": {
   "codemirror_mode": {
    "name": "ipython",
    "version": 3
   },
   "file_extension": ".py",
   "mimetype": "text/x-python",
   "name": "python",
   "nbconvert_exporter": "python",
   "pygments_lexer": "ipython3",
   "version": "3.10.11"
  }
 },
 "nbformat": 4,
 "nbformat_minor": 5
}
